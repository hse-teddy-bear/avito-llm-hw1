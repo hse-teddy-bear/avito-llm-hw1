{
 "cells": [
  {
   "cell_type": "code",
   "execution_count": null,
   "id": "0299423a",
   "metadata": {},
   "outputs": [],
   "source": [
    "code"
   ]
  }
 ],
 "metadata": {
  "kernelspec": {
   "display_name": "Python 3",
   "language": "python",
   "name": "python3"
  },
  "language_info": {
   "name": "python",
   "version": "3.12.3"
  }
 },
 "nbformat": 4,
 "nbformat_minor": 5
}
