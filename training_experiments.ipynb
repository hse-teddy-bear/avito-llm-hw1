{
 "cells": [
  {
   "cell_type": "code",
   "execution_count": null,
   "id": "0299423a",
   "metadata": {},
   "outputs": [],
   "source": [
    "code"
   ]
  }
 ],
 "metadata": {
  "language_info": {
   "name": "python"
  }
 },
 "nbformat": 4,
 "nbformat_minor": 5
}
